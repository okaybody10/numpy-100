{
 "cells": [
  {
   "cell_type": "markdown",
   "id": "a194d42e",
   "metadata": {},
   "source": [
    "# 100 numpy exercises\n",
    "\n",
    "This is a collection of exercises that have been collected in the numpy mailing list, on stack overflow\n",
    "and in the numpy documentation. The goal of this collection is to offer a quick reference for both old\n",
    "and new users but also to provide a set of exercises for those who teach.\n",
    "\n",
    "\n",
    "If you find an error or think you've a better way to solve some of them, feel\n",
    "free to open an issue at <https://github.com/rougier/numpy-100>."
   ]
  },
  {
   "cell_type": "markdown",
   "id": "a7fd49f7",
   "metadata": {},
   "source": [
    "File automatically generated. See the documentation to update questions/answers/hints programmatically."
   ]
  },
  {
   "cell_type": "markdown",
   "id": "b702d5a2",
   "metadata": {},
   "source": [
    "Run the `initialize.py` module, then call a random question with `pick()` an hint towards its solution with\n",
    "`hint(n)` and the answer with `answer(n)`, where n is the number of the picked question."
   ]
  },
  {
   "cell_type": "code",
   "execution_count": 2,
   "id": "da60e1d0",
   "metadata": {},
   "outputs": [],
   "source": [
    "%run initialise.py"
   ]
  },
  {
   "cell_type": "code",
   "execution_count": 14,
   "id": "44326af5",
   "metadata": {},
   "outputs": [],
   "source": [
    "import numpy as np"
   ]
  },
  {
   "cell_type": "code",
   "execution_count": 52,
   "id": "9fb544fe",
   "metadata": {},
   "outputs": [
    {
     "name": "stdout",
     "output_type": "stream",
     "text": [
      "46. Create a structured array with `x` and `y` coordinates covering the [0,1]x[0,1] area (★★☆)\n"
     ]
    }
   ],
   "source": [
    "pick()"
   ]
  },
  {
   "cell_type": "markdown",
   "id": "c6b3fea5",
   "metadata": {},
   "source": [
    "#### 38. Consider a generator function that generates 10 integers and use it to build an array (★☆☆)"
   ]
  },
  {
   "cell_type": "code",
   "execution_count": 12,
   "id": "a19697eb",
   "metadata": {},
   "outputs": [
    {
     "name": "stdout",
     "output_type": "stream",
     "text": [
      "[43, 1306, 1207, 430, 1012, 208, 1105, 732, 223, 597]\n"
     ]
    }
   ],
   "source": [
    "# p 38\n",
    "def generate() :\n",
    "    arr = []\n",
    "    for i in range(10) :\n",
    "        arr.append(np.random.randint(1500))\n",
    "    return arr\n",
    "\n",
    "x = generate()\n",
    "print(x)"
   ]
  },
  {
   "cell_type": "code",
   "execution_count": 26,
   "id": "48c34a5f",
   "metadata": {},
   "outputs": [
    {
     "name": "stdout",
     "output_type": "stream",
     "text": [
      "[0. 1. 2. 3. 4. 5. 6. 7. 8. 9.]\n"
     ]
    }
   ],
   "source": [
    "def generate_answer() :\n",
    "    for x in range(10):\n",
    "        yield x \n",
    "\n",
    "print(np.fromiter(generate_answer(), float, count=10))\n"
   ]
  },
  {
   "cell_type": "markdown",
   "id": "780be267",
   "metadata": {},
   "source": [
    "##### answer"
   ]
  },
  {
   "cell_type": "code",
   "execution_count": 18,
   "id": "e0443876",
   "metadata": {},
   "outputs": [
    {
     "name": "stdout",
     "output_type": "stream",
     "text": [
      "def generate():\n",
      "    for x in range(10):\n",
      "        yield x\n",
      "Z = np.fromiter(generate(),dtype=float,count=-1)\n",
      "print(Z)\n"
     ]
    }
   ],
   "source": [
    "answer(38)"
   ]
  },
  {
   "cell_type": "code",
   "execution_count": 19,
   "id": "da77d986",
   "metadata": {},
   "outputs": [
    {
     "name": "stdout",
     "output_type": "stream",
     "text": [
      "[0. 1. 2. 3. 4. 5. 6. 7. 8. 9.]\n"
     ]
    }
   ],
   "source": [
    "def generate():\n",
    "    for x in range(10):\n",
    "        yield x # can't return.. => because iteration!\n",
    "Z = np.fromiter(generate(),dtype=float,count=-1)\n",
    "print(Z)\n",
    "# Fromiter function => parameter: iteration, type => So, iteration can be function!\n",
    "# Count => How much iteration? => can made multiplication table by (i<j)! or.. binomial coefficient ?"
   ]
  },
  {
   "cell_type": "markdown",
   "id": "98e2fed9",
   "metadata": {},
   "source": [
    "##### Which code is the fastest?"
   ]
  },
  {
   "cell_type": "code",
   "execution_count": 30,
   "id": "4bbd4cb4",
   "metadata": {},
   "outputs": [
    {
     "name": "stdout",
     "output_type": "stream",
     "text": [
      "1.58 µs ± 229 ns per loop (mean ± std. dev. of 7 runs, 10,000 loops each)\n",
      "21 ns ± 0.414 ns per loop (mean ± std. dev. of 7 runs, 10,000 loops each)\n",
      "1.5 µs ± 51.5 ns per loop (mean ± std. dev. of 7 runs, 10,000 loops each)\n"
     ]
    }
   ],
   "source": [
    "%timeit -n 10000 np.fromiter(generate(), dtype = int, count = -1)\n",
    "%timeit -n 10000 generate_answer\n",
    "%timeit -n 10000 np.fromiter((i for i in range(10)), dtype  = int, count = -1)\n",
    "\n",
    "# Fromiter is much faster than generate_answer!"
   ]
  },
  {
   "cell_type": "markdown",
   "id": "85bf9777",
   "metadata": {},
   "source": [
    "#### 21. Create a checkerboard 8x8 matrix using the tile function (★☆☆)"
   ]
  },
  {
   "cell_type": "code",
   "execution_count": 44,
   "id": "4218a13d",
   "metadata": {},
   "outputs": [
    {
     "name": "stdout",
     "output_type": "stream",
     "text": [
      "[[0 1 0 1 0 1 0 1]\n",
      " [1 0 1 0 1 0 1 0]\n",
      " [0 1 0 1 0 1 0 1]\n",
      " [1 0 1 0 1 0 1 0]\n",
      " [0 1 0 1 0 1 0 1]\n",
      " [1 0 1 0 1 0 1 0]\n",
      " [0 1 0 1 0 1 0 1]\n",
      " [1 0 1 0 1 0 1 0]]\n"
     ]
    },
    {
     "data": {
      "text/plain": [
       "numpy.ndarray"
      ]
     },
     "execution_count": 44,
     "metadata": {},
     "output_type": "execute_result"
    }
   ],
   "source": [
    "x = np.tile([[0, 1],[1, 0]], (4, 4))\n",
    "print(x)\n",
    "type(np.array([[0,1],[1,0]]))"
   ]
  },
  {
   "cell_type": "code",
   "execution_count": 50,
   "id": "a1872ff9",
   "metadata": {},
   "outputs": [
    {
     "name": "stdout",
     "output_type": "stream",
     "text": [
      "Z = np.tile( np.array([[0,1],[1,0]]), (4,4))\n",
      "print(Z)\n"
     ]
    }
   ],
   "source": [
    "answer(21)"
   ]
  },
  {
   "cell_type": "code",
   "execution_count": 42,
   "id": "fc2ca913",
   "metadata": {},
   "outputs": [
    {
     "name": "stdout",
     "output_type": "stream",
     "text": [
      "[[0 1 0 1 0 1 0 1]\n",
      " [1 0 1 0 1 0 1 0]\n",
      " [0 1 0 1 0 1 0 1]\n",
      " [1 0 1 0 1 0 1 0]\n",
      " [0 1 0 1 0 1 0 1]\n",
      " [1 0 1 0 1 0 1 0]\n",
      " [0 1 0 1 0 1 0 1]\n",
      " [1 0 1 0 1 0 1 0]]\n"
     ]
    },
    {
     "data": {
      "text/plain": [
       "numpy.ndarray"
      ]
     },
     "execution_count": 42,
     "metadata": {},
     "output_type": "execute_result"
    }
   ],
   "source": [
    "Z = np.tile( np.array([[0,1],[1,0]]), (4,4))\n",
    "print(Z)\n",
    "type(Z)"
   ]
  },
  {
   "cell_type": "markdown",
   "id": "bc78b4a3",
   "metadata": {},
   "source": [
    "##### Is it faster to construct using ndarray than list ?"
   ]
  },
  {
   "cell_type": "code",
   "execution_count": 53,
   "id": "c5288c27",
   "metadata": {},
   "outputs": [
    {
     "name": "stdout",
     "output_type": "stream",
     "text": [
      "5.15 µs ± 1.03 µs per loop (mean ± std. dev. of 7 runs, 10,000 loops each)\n",
      "4.68 µs ± 39.7 ns per loop (mean ± std. dev. of 7 runs, 10,000 loops each)\n"
     ]
    }
   ],
   "source": [
    "%timeit -n 10000 np.tile( np.array([[0,1],[1,0]]), (4,4))\n",
    "%timeit -n 10000 np.tile([[0, 1],[1, 0]], (4, 4))\n",
    "# similar!\n",
    "# Below is little faster because of transformation.. but.. hmm\n",
    "# I think ndarray is more stable than list."
   ]
  },
  {
   "cell_type": "markdown",
   "id": "8aa43f64",
   "metadata": {},
   "source": [
    "#### 46. Create a structured array with `x` and `y` coordinates covering the [0,1]x[0,1] area (★★☆)"
   ]
  },
  {
   "cell_type": "code",
   "execution_count": 92,
   "id": "9cf6cbcd",
   "metadata": {},
   "outputs": [
    {
     "name": "stdout",
     "output_type": "stream",
     "text": [
      "[[(0.  , 0.  ) (0.01, 0.  ) (0.02, 0.  ) ... (0.98, 0.  ) (0.99, 0.  )\n",
      "  (1.  , 0.  )]\n",
      " [(0.  , 0.01) (0.01, 0.01) (0.02, 0.01) ... (0.98, 0.01) (0.99, 0.01)\n",
      "  (1.  , 0.01)]\n",
      " [(0.  , 0.02) (0.01, 0.02) (0.02, 0.02) ... (0.98, 0.02) (0.99, 0.02)\n",
      "  (1.  , 0.02)]\n",
      " ...\n",
      " [(0.  , 0.98) (0.01, 0.98) (0.02, 0.98) ... (0.98, 0.98) (0.99, 0.98)\n",
      "  (1.  , 0.98)]\n",
      " [(0.  , 0.99) (0.01, 0.99) (0.02, 0.99) ... (0.98, 0.99) (0.99, 0.99)\n",
      "  (1.  , 0.99)]\n",
      " [(0.  , 1.  ) (0.01, 1.  ) (0.02, 1.  ) ... (0.98, 1.  ) (0.99, 1.  )\n",
      "  (1.  , 1.  )]]\n"
     ]
    }
   ],
   "source": [
    "Z = np.zeros((101,101), [('x',float),('y',float)])\n",
    "Z['x'], Z['y'] = np.meshgrid(np.linspace(0,1,101), np.linspace(0,1,101))\n",
    "print(Z)"
   ]
  },
  {
   "cell_type": "code",
   "execution_count": 76,
   "id": "ee2b1d1b",
   "metadata": {},
   "outputs": [
    {
     "name": "stdout",
     "output_type": "stream",
     "text": [
      "[[0 1]\n",
      " [0 1]] [[0 0]\n",
      " [1 1]]\n"
     ]
    }
   ],
   "source": [
    "x = np.array([0, 1])\n",
    "y = np.array([0, 1])\n",
    "X, Y = np.meshgrid(x, y)\n",
    "print(X, Y)\n",
    "\n",
    "# np.meshgrid(x, y): 격자화 시켜주는 요소\n",
    "# 지금 상황에서 scatter을 하면.. (0, 0), (1, 1)만 찍히지만 meshgrid를 하면 전체 다 찍힘\n",
    "# meshgrid is very useful to evaluate functions on a grid. If the function depends on all coordinates, you can use the parameter sparse=True to save memory and computation time.\n",
    "# 즉, 함수의 값에 대해 x와 y에 관한 함수를 동시에 계산해야할 때 굉장히 편해짐! like Equation of circle"
   ]
  },
  {
   "cell_type": "code",
   "execution_count": 74,
   "id": "ea6ef61d",
   "metadata": {},
   "outputs": [
    {
     "data": {
      "text/plain": [
       "((101, 101), (101, 101))"
      ]
     },
     "execution_count": 74,
     "metadata": {},
     "output_type": "execute_result"
    }
   ],
   "source": [
    "xx = np.linspace(-5, 5, 101) # -5~5까지 101개의 벡터를 생성\n",
    "yy = np.linspace(-5, 5, 101)\n",
    "xs, ys = np.meshgrid(xx, yy)\n",
    "zs = np.sqrt(xs**2 + ys**2)\n",
    "xs.shape, ys.shape"
   ]
  },
  {
   "cell_type": "code",
   "execution_count": 73,
   "id": "5b2b0c8d",
   "metadata": {},
   "outputs": [
    {
     "data": {
      "text/plain": [
       "((1, 101), (101, 1))"
      ]
     },
     "execution_count": 73,
     "metadata": {},
     "output_type": "execute_result"
    }
   ],
   "source": [
    "xxs, yys = np.meshgrid(xx, yy, sparse = True)\n",
    "xxs.shape, yys.shape"
   ]
  },
  {
   "cell_type": "markdown",
   "id": "49bfc7be",
   "metadata": {},
   "source": [
    "##### Let us Visualize!"
   ]
  },
  {
   "cell_type": "code",
   "execution_count": 78,
   "id": "a8067d99",
   "metadata": {},
   "outputs": [
    {
     "data": {
      "text/plain": [
       "(-1.0, 5.0)"
      ]
     },
     "execution_count": 78,
     "metadata": {},
     "output_type": "execute_result"
    },
    {
     "data": {
      "image/png": "[encoded data removed]",
      "text/plain": [
       "<Figure size 640x480 with 1 Axes>"
      ]
     },
     "metadata": {},
     "output_type": "display_data"
    }
   ],
   "source": [
    "import matplotlib.pyplot as plt\n",
    "\n",
    "plt.scatter(X, Y)\n",
    "plt.xlim(-1, 5)\n",
    "plt.ylim(-1, 5)"
   ]
  },
  {
   "cell_type": "code",
   "execution_count": 93,
   "id": "18f2d9d0",
   "metadata": {},
   "outputs": [
    {
     "data": {
      "text/plain": [
       "<matplotlib.collections.PathCollection at 0x7f168ae9f400>"
      ]
     },
     "execution_count": 93,
     "metadata": {},
     "output_type": "execute_result"
    },
    {
     "data": {
      "image/png": "[encoded data removed]",
      "text/plain": [
       "<Figure size 640x480 with 1 Axes>"
      ]
     },
     "metadata": {},
     "output_type": "display_data"
    }
   ],
   "source": [
    "plt.scatter(Z['x'], Z['y'])"
   ]
  },
  {
   "cell_type": "code",
   "execution_count": 68,
   "id": "ad4bbe9f",
   "metadata": {},
   "outputs": [
    {
     "data": {
      "image/png": "[encoded data removed]",
      "text/plain": [
       "<Figure size 640x480 with 2 Axes>"
      ]
     },
     "metadata": {},
     "output_type": "display_data"
    }
   ],
   "source": [
    "h = plt.contourf(xx, yy, zs)\n",
    "plt.axis('scaled')\n",
    "plt.colorbar()\n",
    "plt.show()"
   ]
  }
 ],
 "metadata": {
  "kernelspec": {
   "display_name": "Python 3.10.4 64-bit",
   "language": "python",
   "name": "python3"
  },
  "language_info": {
   "codemirror_mode": {
    "name": "ipython",
    "version": 3
   },
   "file_extension": ".py",
   "mimetype": "text/x-python",
   "name": "python",
   "nbconvert_exporter": "python",
   "pygments_lexer": "ipython3",
   "version": "3.10.4"
  },
  "vscode": {
   "interpreter": {
    "hash": "916dbcbb3f70747c44a77c7bcd40155683ae19c65e1c03b4aa3499c5328201f1"
   }
  }
 },
 "nbformat": 4,
 "nbformat_minor": 5
}
