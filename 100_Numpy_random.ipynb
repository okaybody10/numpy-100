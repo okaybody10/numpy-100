{
 "cells": [
  {
   "cell_type": "markdown",
   "id": "a194d42e",
   "metadata": {},
   "source": [
    "# 100 numpy exercises\n",
    "\n",
    "This is a collection of exercises that have been collected in the numpy mailing list, on stack overflow\n",
    "and in the numpy documentation. The goal of this collection is to offer a quick reference for both old\n",
    "and new users but also to provide a set of exercises for those who teach.\n",
    "\n",
    "\n",
    "If you find an error or think you've a better way to solve some of them, feel\n",
    "free to open an issue at <https://github.com/rougier/numpy-100>."
   ]
  },
  {
   "cell_type": "markdown",
   "id": "a7fd49f7",
   "metadata": {},
   "source": [
    "File automatically generated. See the documentation to update questions/answers/hints programmatically."
   ]
  },
  {
   "cell_type": "markdown",
   "id": "b702d5a2",
   "metadata": {},
   "source": [
    "Run the `initialize.py` module, then call a random question with `pick()` an hint towards its solution with\n",
    "`hint(n)` and the answer with `answer(n)`, where n is the number of the picked question."
   ]
  },
  {
   "cell_type": "code",
   "execution_count": 1,
   "id": "da60e1d0",
   "metadata": {},
   "outputs": [],
   "source": [
    "%run initialise.py"
   ]
  },
  {
   "cell_type": "code",
   "execution_count": 2,
   "id": "44326af5",
   "metadata": {},
   "outputs": [],
   "source": [
    "import numpy as np"
   ]
  },
  {
   "cell_type": "code",
   "execution_count": 57,
   "id": "9fb544fe",
   "metadata": {},
   "outputs": [
    {
     "name": "stdout",
     "output_type": "stream",
     "text": [
      "83. How to find the most frequent value in an array?\n"
     ]
    }
   ],
   "source": [
    "pick()"
   ]
  },
  {
   "cell_type": "markdown",
   "id": "c6b3fea5",
   "metadata": {},
   "source": [
    "#### 38. Consider a generator function that generates 10 integers and use it to build an array (★☆☆)"
   ]
  },
  {
   "cell_type": "code",
   "execution_count": 4,
   "id": "a19697eb",
   "metadata": {},
   "outputs": [
    {
     "name": "stdout",
     "output_type": "stream",
     "text": [
      "[617, 689, 1223, 904, 7, 538, 946, 1253, 1490, 396]\n"
     ]
    }
   ],
   "source": [
    "# p 38\n",
    "def generate() :\n",
    "    arr = []\n",
    "    for i in range(10) :\n",
    "        arr.append(np.random.randint(1500))\n",
    "    return arr\n",
    "\n",
    "x = generate()\n",
    "print(x)"
   ]
  },
  {
   "cell_type": "code",
   "execution_count": 5,
   "id": "48c34a5f",
   "metadata": {},
   "outputs": [
    {
     "name": "stdout",
     "output_type": "stream",
     "text": [
      "[0. 1. 2. 3. 4. 5. 6. 7. 8. 9.]\n"
     ]
    }
   ],
   "source": [
    "def generate_answer() :\n",
    "    for x in range(10):\n",
    "        yield x \n",
    "\n",
    "print(np.fromiter(generate_answer(), float, count=10))\n"
   ]
  },
  {
   "cell_type": "markdown",
   "id": "780be267",
   "metadata": {},
   "source": [
    "##### answer"
   ]
  },
  {
   "cell_type": "code",
   "execution_count": 6,
   "id": "e0443876",
   "metadata": {},
   "outputs": [
    {
     "name": "stdout",
     "output_type": "stream",
     "text": [
      "def generate():\n",
      "    for x in range(10):\n",
      "        yield x\n",
      "Z = np.fromiter(generate(),dtype=float,count=-1)\n",
      "print(Z)\n"
     ]
    }
   ],
   "source": [
    "answer(38)"
   ]
  },
  {
   "cell_type": "code",
   "execution_count": 7,
   "id": "da77d986",
   "metadata": {},
   "outputs": [
    {
     "name": "stdout",
     "output_type": "stream",
     "text": [
      "[0. 1. 2. 3. 4. 5. 6. 7. 8. 9.]\n"
     ]
    }
   ],
   "source": [
    "def generate():\n",
    "    for x in range(10):\n",
    "        yield x # can't return.. => because iteration!\n",
    "Z = np.fromiter(generate(),dtype=float,count=-1)\n",
    "print(Z)\n",
    "# Fromiter function => parameter: iteration, type => So, iteration can be function!\n",
    "# Count => How much iteration? => can made multiplication table by (i<j)! or.. binomial coefficient ?"
   ]
  },
  {
   "cell_type": "markdown",
   "id": "98e2fed9",
   "metadata": {},
   "source": [
    "##### Which is the fatest code?"
   ]
  },
  {
   "cell_type": "code",
   "execution_count": 8,
   "id": "4bbd4cb4",
   "metadata": {},
   "outputs": [
    {
     "name": "stdout",
     "output_type": "stream",
     "text": [
      "1.94 µs ± 633 ns per loop (mean ± std. dev. of 7 runs, 10,000 loops each)\n",
      "13.2 ns ± 0.072 ns per loop (mean ± std. dev. of 7 runs, 10,000 loops each)\n",
      "1.53 µs ± 24.9 ns per loop (mean ± std. dev. of 7 runs, 10,000 loops each)\n"
     ]
    }
   ],
   "source": [
    "%timeit -n 10000 np.fromiter(generate(), dtype = int, count = -1)\n",
    "%timeit -n 10000 generate_answer\n",
    "%timeit -n 10000 np.fromiter((i for i in range(10)), dtype  = int, count = -1)\n",
    "\n",
    "# Fromiter is much faster than generate_answer!"
   ]
  },
  {
   "cell_type": "markdown",
   "id": "85bf9777",
   "metadata": {},
   "source": [
    "#### 21. Create a checkerboard 8x8 matrix using the tile function (★☆☆)"
   ]
  },
  {
   "cell_type": "code",
   "execution_count": 9,
   "id": "4218a13d",
   "metadata": {},
   "outputs": [
    {
     "name": "stdout",
     "output_type": "stream",
     "text": [
      "[[0 1 0 1 0 1 0 1]\n",
      " [1 0 1 0 1 0 1 0]\n",
      " [0 1 0 1 0 1 0 1]\n",
      " [1 0 1 0 1 0 1 0]\n",
      " [0 1 0 1 0 1 0 1]\n",
      " [1 0 1 0 1 0 1 0]\n",
      " [0 1 0 1 0 1 0 1]\n",
      " [1 0 1 0 1 0 1 0]]\n"
     ]
    },
    {
     "data": {
      "text/plain": [
       "numpy.ndarray"
      ]
     },
     "execution_count": 9,
     "metadata": {},
     "output_type": "execute_result"
    }
   ],
   "source": [
    "x = np.tile([[0, 1],[1, 0]], (4, 4))\n",
    "print(x)\n",
    "type(np.array([[0,1],[1,0]]))"
   ]
  },
  {
   "cell_type": "code",
   "execution_count": 10,
   "id": "a1872ff9",
   "metadata": {},
   "outputs": [
    {
     "name": "stdout",
     "output_type": "stream",
     "text": [
      "Z = np.tile( np.array([[0,1],[1,0]]), (4,4))\n",
      "print(Z)\n"
     ]
    }
   ],
   "source": [
    "answer(21)"
   ]
  },
  {
   "cell_type": "code",
   "execution_count": 11,
   "id": "fc2ca913",
   "metadata": {},
   "outputs": [
    {
     "name": "stdout",
     "output_type": "stream",
     "text": [
      "[[0 1 0 1 0 1 0 1]\n",
      " [1 0 1 0 1 0 1 0]\n",
      " [0 1 0 1 0 1 0 1]\n",
      " [1 0 1 0 1 0 1 0]\n",
      " [0 1 0 1 0 1 0 1]\n",
      " [1 0 1 0 1 0 1 0]\n",
      " [0 1 0 1 0 1 0 1]\n",
      " [1 0 1 0 1 0 1 0]]\n"
     ]
    },
    {
     "data": {
      "text/plain": [
       "numpy.ndarray"
      ]
     },
     "execution_count": 11,
     "metadata": {},
     "output_type": "execute_result"
    }
   ],
   "source": [
    "Z = np.tile( np.array([[0,1],[1,0]]), (4,4))\n",
    "print(Z)\n",
    "type(Z)"
   ]
  },
  {
   "cell_type": "markdown",
   "id": "bc78b4a3",
   "metadata": {},
   "source": [
    "##### Is it faster to construct using ndarray than list ?"
   ]
  },
  {
   "cell_type": "code",
   "execution_count": 12,
   "id": "c5288c27",
   "metadata": {},
   "outputs": [
    {
     "name": "stdout",
     "output_type": "stream",
     "text": [
      "4.91 µs ± 1.06 µs per loop (mean ± std. dev. of 7 runs, 10,000 loops each)\n",
      "4.49 µs ± 91.2 ns per loop (mean ± std. dev. of 7 runs, 10,000 loops each)\n"
     ]
    }
   ],
   "source": [
    "%timeit -n 10000 np.tile( np.array([[0,1],[1,0]]), (4,4))\n",
    "%timeit -n 10000 np.tile([[0, 1],[1, 0]], (4, 4))\n",
    "# similar!\n",
    "# Below is little faster because of transformation.. but.. hmm\n",
    "# I think ndarray is more stable than list."
   ]
  },
  {
   "cell_type": "markdown",
   "id": "788657c4",
   "metadata": {},
   "source": [
    "#### 45. Create random vector of size 10 and replace the maximum value by 0 (★★☆)"
   ]
  },
  {
   "cell_type": "code",
   "execution_count": 13,
   "id": "2c5d67e2",
   "metadata": {},
   "outputs": [
    {
     "data": {
      "text/plain": [
       "array([1162,  147, 1137,  438,  439,  723, 1480,  460, 1065,  454])"
      ]
     },
     "execution_count": 13,
     "metadata": {},
     "output_type": "execute_result"
    }
   ],
   "source": [
    "arr = np.random.randint(1500, size = 10)\n",
    "arr"
   ]
  },
  {
   "cell_type": "code",
   "execution_count": 14,
   "id": "609683d6",
   "metadata": {},
   "outputs": [
    {
     "data": {
      "text/plain": [
       "array([1162,  147, 1137,  438,  439,  723,    0,  460, 1065,  454])"
      ]
     },
     "execution_count": 14,
     "metadata": {},
     "output_type": "execute_result"
    }
   ],
   "source": [
    "arr[np.argmax(arr)] = 0\n",
    "arr"
   ]
  },
  {
   "cell_type": "code",
   "execution_count": 15,
   "id": "dff11840",
   "metadata": {},
   "outputs": [
    {
     "name": "stdout",
     "output_type": "stream",
     "text": [
      "Z = np.random.random(10)\n",
      "Z[Z.argmax()] = 0\n",
      "print(Z)\n"
     ]
    }
   ],
   "source": [
    "answer(45)"
   ]
  },
  {
   "cell_type": "code",
   "execution_count": 16,
   "id": "22932895",
   "metadata": {},
   "outputs": [
    {
     "name": "stdout",
     "output_type": "stream",
     "text": [
      "1.68 µs ± 541 ns per loop (mean ± std. dev. of 7 runs, 10,000 loops each)\n",
      "8.71 µs ± 31.4 ns per loop (mean ± std. dev. of 7 runs, 10,000 loops each)\n"
     ]
    }
   ],
   "source": [
    "def answers() :\n",
    "    Z = np.random.random(10)\n",
    "    Z[Z.argmax()] = 0\n",
    "    return Z\n",
    "\n",
    "def my_answer() :\n",
    "    arr = np.random.randint(1500, size = 10)\n",
    "    arr[np.argmax(arr)] = 0\n",
    "    return arr\n",
    "\n",
    "%timeit -n 10000 answers()\n",
    "%timeit -n 10000 my_answer()"
   ]
  },
  {
   "cell_type": "markdown",
   "id": "a315ac8e",
   "metadata": {},
   "source": [
    "#### 52. Consider a random vector with shape (100,2) representing coordinates, find point by point distances (★★☆)"
   ]
  },
  {
   "cell_type": "code",
   "execution_count": 17,
   "id": "1853ec11",
   "metadata": {},
   "outputs": [
    {
     "name": "stdout",
     "output_type": "stream",
     "text": [
      "Z = np.random.random((10,2))\n",
      "X,Y = np.atleast_2d(Z[:,0], Z[:,1])\n",
      "D = np.sqrt( (X-X.T)**2 + (Y-Y.T)**2)\n",
      "print(D)\n",
      "\n",
      "# Much faster with scipy\n",
      "import scipy\n",
      "# Thanks Gavin Heverly-Coulson (#issue 1)\n",
      "import scipy.spatial\n",
      "\n",
      "Z = np.random.random((10,2))\n",
      "D = scipy.spatial.distance.cdist(Z,Z)\n",
      "print(D)\n"
     ]
    }
   ],
   "source": [
    "answer(52)"
   ]
  },
  {
   "cell_type": "code",
   "execution_count": 18,
   "id": "80f50a6f",
   "metadata": {},
   "outputs": [
    {
     "name": "stdout",
     "output_type": "stream",
     "text": [
      "[[0.         0.09065707 0.11629565 0.46034087 0.59045405 0.87107897\n",
      "  0.90830291 0.47134055 0.84136273 0.67215028]\n",
      " [0.09065707 0.         0.12702559 0.39067888 0.57572799 0.79765869\n",
      "  0.82536639 0.38919193 0.77422163 0.66450651]\n",
      " [0.11629565 0.12702559 0.         0.5129491  0.69434048 0.91503002\n",
      "  0.93008534 0.41010737 0.89616649 0.77973887]\n",
      " [0.46034087 0.39067888 0.5129491  0.         0.38165117 0.41127335\n",
      "  0.4726627  0.45609241 0.38357949 0.47770226]\n",
      " [0.59045405 0.57572799 0.69434048 0.38165117 0.         0.58718035\n",
      "  0.73335718 0.8102564  0.50453472 0.09858104]\n",
      " [0.87107897 0.79765869 0.91503002 0.41127335 0.58718035 0.\n",
      "  0.1819923  0.7281535  0.0939839  0.64381358]\n",
      " [0.90830291 0.82536639 0.93008534 0.4726627  0.73335718 0.1819923\n",
      "  0.         0.66632351 0.27374291 0.80112503]\n",
      " [0.47134055 0.38919193 0.41010737 0.45609241 0.8102564  0.7281535\n",
      "  0.66632351 0.         0.75233826 0.90880572]\n",
      " [0.84136273 0.77422163 0.89616649 0.38357949 0.50453472 0.0939839\n",
      "  0.27374291 0.75233826 0.         0.55557429]\n",
      " [0.67215028 0.66450651 0.77973887 0.47770226 0.09858104 0.64381358\n",
      "  0.80112503 0.90880572 0.55557429 0.        ]]\n",
      "[[0.         0.72259124 0.73426788 0.14607292 0.66470664 0.29633466\n",
      "  0.49578054 0.57755866 0.50942678 0.60443466]\n",
      " [0.72259124 0.         0.53588549 0.66983775 1.05187169 0.42704109\n",
      "  0.39345643 0.94157217 0.84376807 0.36775992]\n",
      " [0.73426788 0.53588549 0.         0.59926574 0.65292567 0.54162673\n",
      "  0.26977075 0.56201458 0.48744073 0.19554595]\n",
      " [0.14607292 0.66983775 0.59926574 0.         0.55182441 0.25693262\n",
      "  0.38015488 0.45502822 0.37701974 0.48804608]\n",
      " [0.66470664 1.05187169 0.65292567 0.55182441 0.         0.75246674\n",
      "  0.65880303 0.11133584 0.21004614 0.71121982]\n",
      " [0.29633466 0.42704109 0.54162673 0.25693262 0.75246674 0.\n",
      "  0.27214756 0.64412724 0.54953426 0.36738168]\n",
      " [0.49578054 0.39345643 0.26977075 0.38015488 0.65880303 0.27214756\n",
      "  0.         0.54897201 0.45188427 0.10880782]\n",
      " [0.57755866 0.94157217 0.56201458 0.45502822 0.11133584 0.64412724\n",
      "  0.54897201 0.         0.09871666 0.60535319]\n",
      " [0.50942678 0.84376807 0.48744073 0.37701974 0.21004614 0.54953426\n",
      "  0.45188427 0.09871666 0.         0.51282864]\n",
      " [0.60443466 0.36775992 0.19554595 0.48804608 0.71121982 0.36738168\n",
      "  0.10880782 0.60535319 0.51282864 0.        ]]\n"
     ]
    }
   ],
   "source": [
    "Z = np.random.random((10,2))\n",
    "X, Y = Z[: , 0].reshape(1, -1), Z[:, 1].reshape(1, -1)\n",
    "# X,Y = np.atleast_2d(Z[:,0], Z[:,1])\n",
    "D = np.sqrt( (X-X.T)**2 + (Y-Y.T)**2)\n",
    "print(D)\n",
    "\n",
    "# Much faster with scipy\n",
    "import scipy\n",
    "# Thanks Gavin Heverly-Coulson (#issue 1)\n",
    "import scipy.spatial\n",
    "\n",
    "Z = np.random.random((10,2))\n",
    "D = scipy.spatial.distance.cdist(Z, Z)\n",
    "print(D)"
   ]
  },
  {
   "cell_type": "markdown",
   "id": "171be57f",
   "metadata": {},
   "source": [
    "#### 23. Create a custom dtype that describes a color as four unsigned bytes (RGBA) (★☆☆)"
   ]
  },
  {
   "cell_type": "code",
   "execution_count": 19,
   "id": "c3cd86f9",
   "metadata": {},
   "outputs": [
    {
     "name": "stdout",
     "output_type": "stream",
     "text": [
      "color = np.dtype([(\"r\", np.ubyte),\n",
      "                  (\"g\", np.ubyte),\n",
      "                  (\"b\", np.ubyte),\n",
      "                  (\"a\", np.ubyte)])\n"
     ]
    }
   ],
   "source": [
    "answer(23)"
   ]
  },
  {
   "cell_type": "code",
   "execution_count": 20,
   "id": "54c53ccc",
   "metadata": {},
   "outputs": [],
   "source": [
    "color = np.dtype([(\"r\", np.ubyte),\n",
    "                  (\"g\", np.ubyte),\n",
    "                  (\"b\", np.ubyte),\n",
    "                  (\"a\", np.ubyte)])"
   ]
  },
  {
   "cell_type": "code",
   "execution_count": 21,
   "id": "18d9f811",
   "metadata": {},
   "outputs": [],
   "source": [
    "a = np.array([(1, 1, 0, 1), 2], dtype= color)\n",
    "# Auto broadcasting! if np.array([1]) => (1, 1, 1, 1)!"
   ]
  },
  {
   "cell_type": "markdown",
   "id": "362fa08d",
   "metadata": {},
   "source": [
    "#### 65. How to accumulate elements of a vector (X) to an array (F) based on an index list (I)? (★★★)"
   ]
  },
  {
   "cell_type": "code",
   "execution_count": 22,
   "id": "1c88d48c",
   "metadata": {},
   "outputs": [],
   "source": [
    "# 가장 쉬운 방법 => 노가다 하는것\n",
    "def my_answer_65(index_list, x) :\n",
    "    ans = [0 for i in range(np.amax(index_list)+1)]\n",
    "    for (i, val) in zip(index_list, x) :\n",
    "        ans[i]+=val\n",
    "    return ans"
   ]
  },
  {
   "cell_type": "markdown",
   "id": "41ab4d0f",
   "metadata": {},
   "source": [
    "##### but.. above is too slow.."
   ]
  },
  {
   "cell_type": "code",
   "execution_count": 23,
   "id": "03eaa6fd",
   "metadata": {},
   "outputs": [
    {
     "name": "stdout",
     "output_type": "stream",
     "text": [
      "# Author: Alan G Isaac\n",
      "\n",
      "X = [1,2,3,4,5,6]\n",
      "I = [1,3,9,3,4,1]\n",
      "F = np.bincount(I,X)\n",
      "print(F)\n"
     ]
    }
   ],
   "source": [
    "answer(65)"
   ]
  },
  {
   "cell_type": "code",
   "execution_count": 24,
   "id": "8f86130f",
   "metadata": {},
   "outputs": [],
   "source": [
    "index_list = np.random.randint(30, size = 30)\n",
    "x = np.random.randint(100, size = index_list.size)\n",
    "# I[0]=1 => 빈도수(F) 배열의 첫번째 index 값이 올라가는데, 이때 weight가 1이므로 1만큼 올라감\n",
    "# 동일하게 I[5]=1이면 weight가 6이므로 6만큼 올라감 => 7"
   ]
  },
  {
   "cell_type": "markdown",
   "id": "8caa6e1e",
   "metadata": {},
   "source": [
    "##### Which code is faster?"
   ]
  },
  {
   "cell_type": "code",
   "execution_count": 25,
   "id": "c1a07e9d",
   "metadata": {},
   "outputs": [
    {
     "name": "stdout",
     "output_type": "stream",
     "text": [
      "9.29 µs ± 1.15 µs per loop (mean ± std. dev. of 7 runs, 10,000 loops each)\n",
      "1.06 µs ± 8.32 ns per loop (mean ± std. dev. of 7 runs, 10,000 loops each)\n"
     ]
    }
   ],
   "source": [
    "%timeit -n 10000 my_answer_65(index_list, x)\n",
    "%timeit -n 10000 np.bincount(index_list, x)\n",
    "# 역시 내장함수 행님이십니다"
   ]
  },
  {
   "cell_type": "markdown",
   "id": "fae8ee71",
   "metadata": {},
   "source": [
    "#### 11. Create a 3x3 identity matrix (★☆☆)"
   ]
  },
  {
   "cell_type": "code",
   "execution_count": 26,
   "id": "4d11d7cc",
   "metadata": {},
   "outputs": [
    {
     "data": {
      "text/plain": [
       "array([[1, 0, 0],\n",
       "       [0, 1, 0],\n",
       "       [0, 0, 1]])"
      ]
     },
     "execution_count": 26,
     "metadata": {},
     "output_type": "execute_result"
    }
   ],
   "source": [
    "mat = np.identity(3, dtype = int)\n",
    "mat\n",
    "# 역시 내장함수 행님이십니다...\n",
    "# eye function is more useful.. but speed?"
   ]
  },
  {
   "cell_type": "code",
   "execution_count": 27,
   "id": "f9c77348",
   "metadata": {},
   "outputs": [
    {
     "name": "stdout",
     "output_type": "stream",
     "text": [
      "1.79 µs ± 24 ns per loop (mean ± std. dev. of 7 runs, 100,000 loops each)\n",
      "1.28 µs ± 3.72 ns per loop (mean ± std. dev. of 7 runs, 100,000 loops each)\n"
     ]
    }
   ],
   "source": [
    "%timeit -n 100000 np.identity(3, dtype = int)\n",
    "%timeit -n 100000 np.eye(3, dtype = int)\n",
    "# eye가 더 빠르노;; 버그임 ?"
   ]
  },
  {
   "cell_type": "markdown",
   "id": "29c7465a",
   "metadata": {},
   "source": [
    "#### 8. Reverse a vector (first element becomes last) (★☆☆)"
   ]
  },
  {
   "cell_type": "code",
   "execution_count": 28,
   "id": "48fd0cb0",
   "metadata": {},
   "outputs": [
    {
     "name": "stdout",
     "output_type": "stream",
     "text": [
      "[0.98971831 0.42060858 0.78186692 0.94949196 0.89435194 0.16976713\n",
      " 0.66274529 0.87808361 0.20819172 0.26951913]\n",
      "[0.26951913 0.20819172 0.87808361 0.66274529 0.16976713 0.89435194\n",
      " 0.94949196 0.78186692 0.42060858 0.98971831]\n"
     ]
    }
   ],
   "source": [
    "v = np.random.random(size = 10)\n",
    "print(v)\n",
    "v = v[::-1]\n",
    "print(v)"
   ]
  },
  {
   "cell_type": "code",
   "execution_count": 29,
   "id": "424fa3d5",
   "metadata": {},
   "outputs": [
    {
     "name": "stdout",
     "output_type": "stream",
     "text": [
      "Z = np.arange(50)\n",
      "Z = Z[::-1]\n",
      "print(Z)\n"
     ]
    }
   ],
   "source": [
    "answer(8)"
   ]
  },
  {
   "cell_type": "markdown",
   "id": "1d086918",
   "metadata": {},
   "source": [
    "#### 30. How to find common values between two arrays? (★☆☆)"
   ]
  },
  {
   "cell_type": "code",
   "execution_count": 30,
   "id": "7b6970bb",
   "metadata": {},
   "outputs": [
    {
     "name": "stdout",
     "output_type": "stream",
     "text": [
      "[5 5 7 0 0 7 2 2]\n",
      "[9 5 6 4 8 4 3 3]\n",
      "[5]\n"
     ]
    }
   ],
   "source": [
    "a = np.random.randint(10, size = 8)\n",
    "b = np.random.randint(10, size = 8)\n",
    "ans = np.intersect1d(a, b)\n",
    "print(a, b, ans, sep='\\n')"
   ]
  },
  {
   "cell_type": "code",
   "execution_count": 31,
   "id": "e4edd8f6",
   "metadata": {},
   "outputs": [
    {
     "name": "stdout",
     "output_type": "stream",
     "text": [
      "Z1 = np.random.randint(0,10,10)\n",
      "Z2 = np.random.randint(0,10,10)\n",
      "print(np.intersect1d(Z1,Z2))\n"
     ]
    }
   ],
   "source": [
    "answer(30)"
   ]
  },
  {
   "cell_type": "markdown",
   "id": "114846ec",
   "metadata": {},
   "source": [
    "#### 16. How to add a border (filled with 0's) around an existing array? (★☆☆)"
   ]
  },
  {
   "cell_type": "code",
   "execution_count": 32,
   "id": "90d89a1c",
   "metadata": {},
   "outputs": [
    {
     "data": {
      "text/plain": [
       "array([[0., 0., 0., 0., 0., 0., 0.],\n",
       "       [0., 1., 1., 1., 1., 1., 0.],\n",
       "       [0., 1., 1., 1., 1., 1., 0.],\n",
       "       [0., 1., 1., 1., 1., 1., 0.],\n",
       "       [0., 1., 1., 1., 1., 1., 0.],\n",
       "       [0., 1., 1., 1., 1., 1., 0.],\n",
       "       [0., 0., 0., 0., 0., 0., 0.]])"
      ]
     },
     "execution_count": 32,
     "metadata": {},
     "output_type": "execute_result"
    }
   ],
   "source": [
    "x = np.ones((5, 5))\n",
    "x = np.pad(x, pad_width = 1, mode = 'constant', constant_values=0) # CNN Zero pading\n",
    "x"
   ]
  },
  {
   "cell_type": "markdown",
   "id": "3764cd07",
   "metadata": {},
   "source": [
    "#### 3. Create a null vector of size 10 (★☆☆)"
   ]
  },
  {
   "cell_type": "code",
   "execution_count": 33,
   "id": "e7ef938f",
   "metadata": {},
   "outputs": [
    {
     "data": {
      "text/plain": [
       "array([0., 0., 0., 0., 0., 0., 0., 0., 0., 0.])"
      ]
     },
     "execution_count": 33,
     "metadata": {},
     "output_type": "execute_result"
    }
   ],
   "source": [
    "np.zeros(shape = (10))"
   ]
  },
  {
   "cell_type": "markdown",
   "id": "a7a3fdc2",
   "metadata": {},
   "source": [
    "#### 92. Consider a large vector Z, compute Z to the power of 3 using 3 different methods (★★★)"
   ]
  },
  {
   "cell_type": "code",
   "execution_count": 47,
   "id": "376bee5c",
   "metadata": {},
   "outputs": [
    {
     "data": {
      "text/plain": [
       "array([ 1,  8, 27])"
      ]
     },
     "execution_count": 47,
     "metadata": {},
     "output_type": "execute_result"
    }
   ],
   "source": [
    "x = np.array([1, 2, 3])\n",
    "# np.einsum()\n",
    "np.einsum('i,i,i->i', x, x, x)"
   ]
  },
  {
   "cell_type": "code",
   "execution_count": 48,
   "id": "6c92cf24",
   "metadata": {},
   "outputs": [
    {
     "data": {
      "text/plain": [
       "array([ 1,  8, 27])"
      ]
     },
     "execution_count": 48,
     "metadata": {},
     "output_type": "execute_result"
    }
   ],
   "source": [
    "np.power(x, 3)"
   ]
  },
  {
   "cell_type": "code",
   "execution_count": 49,
   "id": "ed3fcf03",
   "metadata": {},
   "outputs": [
    {
     "data": {
      "text/plain": [
       "array([ 1,  8, 27])"
      ]
     },
     "execution_count": 49,
     "metadata": {},
     "output_type": "execute_result"
    }
   ],
   "source": [
    "x*x*x"
   ]
  },
  {
   "cell_type": "code",
   "execution_count": 50,
   "id": "c1543630",
   "metadata": {},
   "outputs": [
    {
     "name": "stdout",
     "output_type": "stream",
     "text": [
      "2.44 µs ± 740 ns per loop (mean ± std. dev. of 7 runs, 15,000 loops each)\n",
      "1.13 µs ± 15.2 ns per loop (mean ± std. dev. of 7 runs, 15,000 loops each)\n",
      "925 ns ± 4.96 ns per loop (mean ± std. dev. of 7 runs, 15,000 loops each)\n"
     ]
    }
   ],
   "source": [
    "%timeit -n 15000 np.einsum('i, i, i -> i', x, x, x)\n",
    "%timeit -n 15000 np.power(x, 3)\n",
    "%timeit -n 15000 x*x*x"
   ]
  },
  {
   "cell_type": "markdown",
   "id": "083b550c",
   "metadata": {},
   "source": [
    "#### 6. Create a null vector of size 10 but the fifth value which is 1 (★☆☆)"
   ]
  },
  {
   "cell_type": "code",
   "execution_count": 56,
   "id": "36695154",
   "metadata": {},
   "outputs": [
    {
     "data": {
      "text/plain": [
       "array([0., 0., 0., 0., 1., 0., 0., 0., 0., 0.])"
      ]
     },
     "execution_count": 56,
     "metadata": {},
     "output_type": "execute_result"
    }
   ],
   "source": [
    "x = np.zeros(10)\n",
    "x[4] = 1\n",
    "x"
   ]
  },
  {
   "cell_type": "code",
   "execution_count": 55,
   "id": "2fb1a4e6",
   "metadata": {},
   "outputs": [
    {
     "name": "stdout",
     "output_type": "stream",
     "text": [
      "Z = np.zeros(10)\n",
      "Z[4] = 1\n",
      "print(Z)\n"
     ]
    }
   ],
   "source": [
    "answer(6)"
   ]
  },
  {
   "cell_type": "markdown",
   "id": "e6afed97",
   "metadata": {},
   "source": [
    "#### 83. How to find the most frequent value in an array?"
   ]
  },
  {
   "cell_type": "code",
   "execution_count": 61,
   "id": "b6dec1c7",
   "metadata": {},
   "outputs": [],
   "source": [
    "x = np.random.randint(10, size = 1500)"
   ]
  },
  {
   "cell_type": "code",
   "execution_count": 62,
   "id": "41ea5f15",
   "metadata": {},
   "outputs": [
    {
     "data": {
      "text/plain": [
       "array([6, 7, 0, ..., 6, 2, 2])"
      ]
     },
     "execution_count": 62,
     "metadata": {},
     "output_type": "execute_result"
    }
   ],
   "source": [
    "x"
   ]
  },
  {
   "cell_type": "code",
   "execution_count": 65,
   "id": "9113ca78",
   "metadata": {},
   "outputs": [
    {
     "data": {
      "text/plain": [
       "9"
      ]
     },
     "execution_count": 65,
     "metadata": {},
     "output_type": "execute_result"
    }
   ],
   "source": [
    "np.argmax(np.bincount(x))"
   ]
  },
  {
   "cell_type": "markdown",
   "id": "d1c7cbce",
   "metadata": {},
   "source": [
    "##### What is answer..?"
   ]
  },
  {
   "cell_type": "code",
   "execution_count": 66,
   "id": "5a824b2c",
   "metadata": {},
   "outputs": [
    {
     "name": "stdout",
     "output_type": "stream",
     "text": [
      "Z = np.random.randint(0,10,50)\n",
      "print(np.bincount(Z).argmax())\n"
     ]
    }
   ],
   "source": [
    "answer(83)"
   ]
  }
 ],
 "metadata": {
  "kernelspec": {
   "display_name": "Python 3.10.6 64-bit",
   "language": "python",
   "name": "python3"
  },
  "language_info": {
   "codemirror_mode": {
    "name": "ipython",
    "version": 3
   },
   "file_extension": ".py",
   "mimetype": "text/x-python",
   "name": "python",
   "nbconvert_exporter": "python",
   "pygments_lexer": "ipython3",
   "version": "3.10.6"
  },
  "vscode": {
   "interpreter": {
    "hash": "916dbcbb3f70747c44a77c7bcd40155683ae19c65e1c03b4aa3499c5328201f1"
   }
  }
 },
 "nbformat": 4,
 "nbformat_minor": 5
}
