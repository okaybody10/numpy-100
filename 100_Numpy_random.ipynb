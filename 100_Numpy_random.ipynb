{
 "cells": [
  {
   "cell_type": "markdown",
   "id": "a194d42e",
   "metadata": {},
   "source": [
    "# 100 numpy exercises\n",
    "\n",
    "This is a collection of exercises that have been collected in the numpy mailing list, on stack overflow\n",
    "and in the numpy documentation. The goal of this collection is to offer a quick reference for both old\n",
    "and new users but also to provide a set of exercises for those who teach.\n",
    "\n",
    "\n",
    "If you find an error or think you've a better way to solve some of them, feel\n",
    "free to open an issue at <https://github.com/rougier/numpy-100>."
   ]
  },
  {
   "cell_type": "markdown",
   "id": "a7fd49f7",
   "metadata": {},
   "source": [
    "File automatically generated. See the documentation to update questions/answers/hints programmatically."
   ]
  },
  {
   "cell_type": "markdown",
   "id": "b702d5a2",
   "metadata": {},
   "source": [
    "Run the `initialize.py` module, then call a random question with `pick()` an hint towards its solution with\n",
    "`hint(n)` and the answer with `answer(n)`, where n is the number of the picked question."
   ]
  },
  {
   "cell_type": "code",
   "execution_count": 1,
   "id": "da60e1d0",
   "metadata": {},
   "outputs": [],
   "source": [
    "%run initialise.py"
   ]
  },
  {
   "cell_type": "code",
   "execution_count": 2,
   "id": "44326af5",
   "metadata": {},
   "outputs": [],
   "source": [
    "import numpy as np"
   ]
  },
  {
   "cell_type": "code",
   "execution_count": 117,
   "id": "9fb544fe",
   "metadata": {},
   "outputs": [
    {
     "name": "stdout",
     "output_type": "stream",
     "text": [
      "92. Consider a large vector Z, compute Z to the power of 3 using 3 different methods (★★★)\n"
     ]
    }
   ],
   "source": [
    "pick()"
   ]
  },
  {
   "cell_type": "markdown",
   "id": "c6b3fea5",
   "metadata": {},
   "source": [
    "#### 38. Consider a generator function that generates 10 integers and use it to build an array (★☆☆)"
   ]
  },
  {
   "cell_type": "code",
   "execution_count": 4,
   "id": "a19697eb",
   "metadata": {},
   "outputs": [
    {
     "name": "stdout",
     "output_type": "stream",
     "text": [
      "[1263, 645, 376, 55, 543, 1, 392, 795, 1415, 779]\n"
     ]
    }
   ],
   "source": [
    "# p 38\n",
    "def generate() :\n",
    "    arr = []\n",
    "    for i in range(10) :\n",
    "        arr.append(np.random.randint(1500))\n",
    "    return arr\n",
    "\n",
    "x = generate()\n",
    "print(x)"
   ]
  },
  {
   "cell_type": "code",
   "execution_count": 5,
   "id": "48c34a5f",
   "metadata": {},
   "outputs": [
    {
     "name": "stdout",
     "output_type": "stream",
     "text": [
      "[0. 1. 2. 3. 4. 5. 6. 7. 8. 9.]\n"
     ]
    }
   ],
   "source": [
    "def generate_answer() :\n",
    "    for x in range(10):\n",
    "        yield x \n",
    "\n",
    "print(np.fromiter(generate_answer(), float, count=10))\n"
   ]
  },
  {
   "cell_type": "markdown",
   "id": "780be267",
   "metadata": {},
   "source": [
    "##### answer"
   ]
  },
  {
   "cell_type": "code",
   "execution_count": 6,
   "id": "e0443876",
   "metadata": {},
   "outputs": [
    {
     "name": "stdout",
     "output_type": "stream",
     "text": [
      "def generate():\n",
      "    for x in range(10):\n",
      "        yield x\n",
      "Z = np.fromiter(generate(),dtype=float,count=-1)\n",
      "print(Z)\n"
     ]
    }
   ],
   "source": [
    "answer(38)"
   ]
  },
  {
   "cell_type": "code",
   "execution_count": 7,
   "id": "da77d986",
   "metadata": {},
   "outputs": [
    {
     "name": "stdout",
     "output_type": "stream",
     "text": [
      "[0. 1. 2. 3. 4. 5. 6. 7. 8. 9.]\n"
     ]
    }
   ],
   "source": [
    "def generate():\n",
    "    for x in range(10):\n",
    "        yield x # can't return.. => because iteration!\n",
    "Z = np.fromiter(generate(),dtype=float,count=-1)\n",
    "print(Z)\n",
    "# Fromiter function => parameter: iteration, type => So, iteration can be function!\n",
    "# Count => How much iteration? => can made multiplication table by (i<j)! or.. binomial coefficient ?"
   ]
  },
  {
   "cell_type": "markdown",
   "id": "98e2fed9",
   "metadata": {},
   "source": [
    "##### Which is the fatest code?"
   ]
  },
  {
   "cell_type": "code",
   "execution_count": 8,
   "id": "4bbd4cb4",
   "metadata": {},
   "outputs": [
    {
     "name": "stdout",
     "output_type": "stream",
     "text": [
      "1.52 µs ± 126 ns per loop (mean ± std. dev. of 7 runs, 10,000 loops each)\n",
      "14.1 ns ± 0.132 ns per loop (mean ± std. dev. of 7 runs, 10,000 loops each)\n",
      "1.58 µs ± 159 ns per loop (mean ± std. dev. of 7 runs, 10,000 loops each)\n"
     ]
    }
   ],
   "source": [
    "%timeit -n 10000 np.fromiter(generate(), dtype = int, count = -1)\n",
    "%timeit -n 10000 generate_answer\n",
    "%timeit -n 10000 np.fromiter((i for i in range(10)), dtype  = int, count = -1)\n",
    "\n",
    "# Fromiter is much faster than generate_answer!"
   ]
  },
  {
   "cell_type": "markdown",
   "id": "85bf9777",
   "metadata": {},
   "source": [
    "#### 21. Create a checkerboard 8x8 matrix using the tile function (★☆☆)"
   ]
  },
  {
   "cell_type": "code",
   "execution_count": 9,
   "id": "4218a13d",
   "metadata": {},
   "outputs": [
    {
     "name": "stdout",
     "output_type": "stream",
     "text": [
      "[[0 1 0 1 0 1 0 1]\n",
      " [1 0 1 0 1 0 1 0]\n",
      " [0 1 0 1 0 1 0 1]\n",
      " [1 0 1 0 1 0 1 0]\n",
      " [0 1 0 1 0 1 0 1]\n",
      " [1 0 1 0 1 0 1 0]\n",
      " [0 1 0 1 0 1 0 1]\n",
      " [1 0 1 0 1 0 1 0]]\n"
     ]
    },
    {
     "data": {
      "text/plain": [
       "numpy.ndarray"
      ]
     },
     "execution_count": 9,
     "metadata": {},
     "output_type": "execute_result"
    }
   ],
   "source": [
    "x = np.tile([[0, 1],[1, 0]], (4, 4))\n",
    "print(x)\n",
    "type(np.array([[0,1],[1,0]]))"
   ]
  },
  {
   "cell_type": "code",
   "execution_count": 10,
   "id": "a1872ff9",
   "metadata": {},
   "outputs": [
    {
     "name": "stdout",
     "output_type": "stream",
     "text": [
      "Z = np.tile( np.array([[0,1],[1,0]]), (4,4))\n",
      "print(Z)\n"
     ]
    }
   ],
   "source": [
    "answer(21)"
   ]
  },
  {
   "cell_type": "code",
   "execution_count": 11,
   "id": "fc2ca913",
   "metadata": {},
   "outputs": [
    {
     "name": "stdout",
     "output_type": "stream",
     "text": [
      "[[0 1 0 1 0 1 0 1]\n",
      " [1 0 1 0 1 0 1 0]\n",
      " [0 1 0 1 0 1 0 1]\n",
      " [1 0 1 0 1 0 1 0]\n",
      " [0 1 0 1 0 1 0 1]\n",
      " [1 0 1 0 1 0 1 0]\n",
      " [0 1 0 1 0 1 0 1]\n",
      " [1 0 1 0 1 0 1 0]]\n"
     ]
    },
    {
     "data": {
      "text/plain": [
       "numpy.ndarray"
      ]
     },
     "execution_count": 11,
     "metadata": {},
     "output_type": "execute_result"
    }
   ],
   "source": [
    "Z = np.tile( np.array([[0,1],[1,0]]), (4,4))\n",
    "print(Z)\n",
    "type(Z)"
   ]
  },
  {
   "cell_type": "markdown",
   "id": "bc78b4a3",
   "metadata": {},
   "source": [
    "##### Is it faster to construct using ndarray than list ?"
   ]
  },
  {
   "cell_type": "code",
   "execution_count": 12,
   "id": "c5288c27",
   "metadata": {},
   "outputs": [
    {
     "name": "stdout",
     "output_type": "stream",
     "text": [
      "4.01 µs ± 171 ns per loop (mean ± std. dev. of 7 runs, 10,000 loops each)\n",
      "3.83 µs ± 160 ns per loop (mean ± std. dev. of 7 runs, 10,000 loops each)\n"
     ]
    }
   ],
   "source": [
    "%timeit -n 10000 np.tile( np.array([[0,1],[1,0]]), (4,4))\n",
    "%timeit -n 10000 np.tile([[0, 1],[1, 0]], (4, 4))\n",
    "# similar!\n",
    "# Below is little faster because of transformation.. but.. hmm\n",
    "# I think ndarray is more stable than list."
   ]
  },
  {
   "cell_type": "markdown",
   "id": "788657c4",
   "metadata": {},
   "source": [
    "#### 45. Create random vector of size 10 and replace the maximum value by 0 (★★☆)"
   ]
  },
  {
   "cell_type": "code",
   "execution_count": 13,
   "id": "2c5d67e2",
   "metadata": {},
   "outputs": [
    {
     "data": {
      "text/plain": [
       "array([ 223, 1213, 1259,  617,  430,  691,  497,  475,  951, 1001])"
      ]
     },
     "execution_count": 13,
     "metadata": {},
     "output_type": "execute_result"
    }
   ],
   "source": [
    "arr = np.random.randint(1500, size = 10)\n",
    "arr"
   ]
  },
  {
   "cell_type": "code",
   "execution_count": 14,
   "id": "609683d6",
   "metadata": {},
   "outputs": [
    {
     "data": {
      "text/plain": [
       "array([ 223, 1213,    0,  617,  430,  691,  497,  475,  951, 1001])"
      ]
     },
     "execution_count": 14,
     "metadata": {},
     "output_type": "execute_result"
    }
   ],
   "source": [
    "arr[np.argmax(arr)] = 0\n",
    "arr"
   ]
  },
  {
   "cell_type": "code",
   "execution_count": 15,
   "id": "dff11840",
   "metadata": {},
   "outputs": [
    {
     "name": "stdout",
     "output_type": "stream",
     "text": [
      "Z = np.random.random(10)\n",
      "Z[Z.argmax()] = 0\n",
      "print(Z)\n"
     ]
    }
   ],
   "source": [
    "answer(45)"
   ]
  },
  {
   "cell_type": "code",
   "execution_count": 16,
   "id": "22932895",
   "metadata": {},
   "outputs": [
    {
     "name": "stdout",
     "output_type": "stream",
     "text": [
      "988 ns ± 59.2 ns per loop (mean ± std. dev. of 7 runs, 10,000 loops each)\n",
      "6.29 µs ± 197 ns per loop (mean ± std. dev. of 7 runs, 10,000 loops each)\n"
     ]
    }
   ],
   "source": [
    "def answers() :\n",
    "    Z = np.random.random(10)\n",
    "    Z[Z.argmax()] = 0\n",
    "    return Z\n",
    "\n",
    "def my_answer() :\n",
    "    arr = np.random.randint(1500, size = 10)\n",
    "    arr[np.argmax(arr)] = 0\n",
    "    return arr\n",
    "\n",
    "%timeit -n 10000 answers()\n",
    "%timeit -n 10000 my_answer()"
   ]
  },
  {
   "cell_type": "markdown",
   "id": "a315ac8e",
   "metadata": {},
   "source": [
    "#### 52. Consider a random vector with shape (100,2) representing coordinates, find point by point distances (★★☆)"
   ]
  },
  {
   "cell_type": "code",
   "execution_count": 17,
   "id": "1853ec11",
   "metadata": {},
   "outputs": [
    {
     "name": "stdout",
     "output_type": "stream",
     "text": [
      "Z = np.random.random((10,2))\n",
      "X,Y = np.atleast_2d(Z[:,0], Z[:,1])\n",
      "D = np.sqrt( (X-X.T)**2 + (Y-Y.T)**2)\n",
      "print(D)\n",
      "\n",
      "# Much faster with scipy\n",
      "import scipy\n",
      "# Thanks Gavin Heverly-Coulson (#issue 1)\n",
      "import scipy.spatial\n",
      "\n",
      "Z = np.random.random((10,2))\n",
      "D = scipy.spatial.distance.cdist(Z,Z)\n",
      "print(D)\n"
     ]
    }
   ],
   "source": [
    "answer(52)"
   ]
  },
  {
   "cell_type": "code",
   "execution_count": 46,
   "id": "80f50a6f",
   "metadata": {},
   "outputs": [
    {
     "name": "stdout",
     "output_type": "stream",
     "text": [
      "[[0.         0.18791461 0.17783022 0.48230442 0.18396528 0.3497838\n",
      "  0.74318482 0.67019526 0.67539626 0.61761597]\n",
      " [0.18791461 0.         0.20010891 0.32815297 0.3692325  0.4032246\n",
      "  0.75721608 0.69342096 0.77616148 0.57510026]\n",
      " [0.17783022 0.20010891 0.         0.36030943 0.27726901 0.20503698\n",
      "  0.58039033 0.51108392 0.57640776 0.43993397]\n",
      " [0.48230442 0.32815297 0.36030943 0.         0.63187576 0.45668016\n",
      "  0.64648859 0.609411   0.81648815 0.40031445]\n",
      " [0.18396528 0.3692325  0.27726901 0.63187576 0.         0.34796972\n",
      "  0.7315298  0.65432985 0.57584422 0.66872464]\n",
      " [0.3497838  0.4032246  0.20503698 0.45668016 0.34796972 0.\n",
      "  0.39598333 0.32139747 0.38223988 0.3298261 ]\n",
      " [0.74318482 0.75721608 0.58039033 0.64648859 0.7315298  0.39598333\n",
      "  0.         0.07742925 0.35938968 0.25470967]\n",
      " [0.67019526 0.69342096 0.51108392 0.609411   0.65432985 0.32139747\n",
      "  0.07742925 0.         0.31128783 0.23949174]\n",
      " [0.67539626 0.77616148 0.57640776 0.81648815 0.57584422 0.38223988\n",
      "  0.35938968 0.31128783 0.         0.52519943]\n",
      " [0.61761597 0.57510026 0.43993397 0.40031445 0.66872464 0.3298261\n",
      "  0.25470967 0.23949174 0.52519943 0.        ]]\n",
      "[[0.         0.81973753 1.14439831 0.5081639  0.8768255  0.83982448\n",
      "  0.36328671 0.49853298 0.99930912 0.76538699]\n",
      " [0.81973753 0.         0.64529261 0.79051031 0.33468134 0.56932413\n",
      "  0.80347136 0.78972913 0.55985249 0.1983359 ]\n",
      " [1.14439831 0.64529261 0.         0.78460576 0.32968134 0.32505429\n",
      "  0.90287991 0.79137042 0.14552838 0.49546382]\n",
      " [0.5081639  0.79051031 0.78460576 0.         0.63940506 0.46121912\n",
      "  0.15186468 0.00979207 0.64745231 0.62788346]\n",
      " [0.8768255  0.33468134 0.32968134 0.63940506 0.         0.26623616\n",
      "  0.71405885 0.64271071 0.22590471 0.16584975]\n",
      " [0.83982448 0.56932413 0.32505429 0.46121912 0.26623616 0.\n",
      "  0.5781478  0.46761288 0.1863816  0.37194566]\n",
      " [0.36328671 0.80347136 0.90287991 0.15186468 0.71405885 0.5781478\n",
      "  0.         0.14210284 0.76063813 0.66786763]\n",
      " [0.49853298 0.78972913 0.79137042 0.00979207 0.64271071 0.46761288\n",
      "  0.14210284 0.         0.65372787 0.6286958 ]\n",
      " [0.99930912 0.55985249 0.14552838 0.64745231 0.22590471 0.1863816\n",
      "  0.76063813 0.65372787 0.         0.38620401]\n",
      " [0.76538699 0.1983359  0.49546382 0.62788346 0.16584975 0.37194566\n",
      "  0.66786763 0.6286958  0.38620401 0.        ]]\n"
     ]
    }
   ],
   "source": [
    "Z = np.random.random((10,2))\n",
    "X, Y = Z[: , 0].reshape(1, -1), Z[:, 1].reshape(1, -1)\n",
    "# X,Y = np.atleast_2d(Z[:,0], Z[:,1])\n",
    "D = np.sqrt( (X-X.T)**2 + (Y-Y.T)**2)\n",
    "print(D)\n",
    "\n",
    "# Much faster with scipy\n",
    "import scipy\n",
    "# Thanks Gavin Heverly-Coulson (#issue 1)\n",
    "import scipy.spatial\n",
    "\n",
    "Z = np.random.random((10,2))\n",
    "D = scipy.spatial.distance.cdist(Z, Z)\n",
    "print(D)"
   ]
  },
  {
   "cell_type": "markdown",
   "id": "171be57f",
   "metadata": {},
   "source": [
    "#### 23. Create a custom dtype that describes a color as four unsigned bytes (RGBA) (★☆☆)"
   ]
  },
  {
   "cell_type": "code",
   "execution_count": 4,
   "id": "c3cd86f9",
   "metadata": {},
   "outputs": [
    {
     "name": "stdout",
     "output_type": "stream",
     "text": [
      "color = np.dtype([(\"r\", np.ubyte),\n",
      "                  (\"g\", np.ubyte),\n",
      "                  (\"b\", np.ubyte),\n",
      "                  (\"a\", np.ubyte)])\n"
     ]
    }
   ],
   "source": [
    "answer(23)"
   ]
  },
  {
   "cell_type": "code",
   "execution_count": 5,
   "id": "54c53ccc",
   "metadata": {},
   "outputs": [],
   "source": [
    "color = np.dtype([(\"r\", np.ubyte),\n",
    "                  (\"g\", np.ubyte),\n",
    "                  (\"b\", np.ubyte),\n",
    "                  (\"a\", np.ubyte)])"
   ]
  },
  {
   "cell_type": "code",
   "execution_count": 13,
   "id": "18d9f811",
   "metadata": {},
   "outputs": [
    {
     "data": {
      "text/plain": [
       "array([(1, 1, 0, 1), (2, 2, 2, 2)],\n",
       "      dtype=[('r', 'u1'), ('g', 'u1'), ('b', 'u1'), ('a', 'u1')])"
      ]
     },
     "execution_count": 13,
     "metadata": {},
     "output_type": "execute_result"
    }
   ],
   "source": [
    "a = np.array([(1, 1, 0, 1), 2], dtype= color)\n",
    "# Auto broadcasting! if np.array([1]) => (1, 1, 1, 1)!"
   ]
  },
  {
   "cell_type": "markdown",
   "id": "362fa08d",
   "metadata": {},
   "source": [
    "#### 65. How to accumulate elements of a vector (X) to an array (F) based on an index list (I)? (★★★)"
   ]
  },
  {
   "cell_type": "code",
   "execution_count": 57,
   "id": "1c88d48c",
   "metadata": {},
   "outputs": [],
   "source": [
    "# 가장 쉬운 방법 => 노가다 하는것\n",
    "def my_answer_65(index_list, x) :\n",
    "    ans = [0 for i in range(np.amax(index_list)+1)]\n",
    "    for (i, val) in zip(index_list, x) :\n",
    "        ans[i]+=val\n",
    "    return ans"
   ]
  },
  {
   "cell_type": "markdown",
   "id": "41ab4d0f",
   "metadata": {},
   "source": [
    "##### but.. above is too slow.."
   ]
  },
  {
   "cell_type": "code",
   "execution_count": 36,
   "id": "03eaa6fd",
   "metadata": {},
   "outputs": [
    {
     "name": "stdout",
     "output_type": "stream",
     "text": [
      "# Author: Alan G Isaac\n",
      "\n",
      "X = [1,2,3,4,5,6]\n",
      "I = [1,3,9,3,4,1]\n",
      "F = np.bincount(I,X)\n",
      "print(F)\n"
     ]
    }
   ],
   "source": [
    "answer(65)"
   ]
  },
  {
   "cell_type": "code",
   "execution_count": 56,
   "id": "8f86130f",
   "metadata": {},
   "outputs": [],
   "source": [
    "index_list = np.random.randint(30, size = 30)\n",
    "x = np.random.randint(100, size = index_list.size)\n",
    "# I[0]=1 => 빈도수(F) 배열의 첫번째 index 값이 올라가는데, 이때 weight가 1이므로 1만큼 올라감\n",
    "# 동일하게 I[5]=1이면 weight가 6이므로 6만큼 올라감 => 7"
   ]
  },
  {
   "cell_type": "markdown",
   "id": "8caa6e1e",
   "metadata": {},
   "source": [
    "##### Which code is faster?"
   ]
  },
  {
   "cell_type": "code",
   "execution_count": 59,
   "id": "c1a07e9d",
   "metadata": {},
   "outputs": [
    {
     "name": "stdout",
     "output_type": "stream",
     "text": [
      "7.99 µs ± 263 ns per loop (mean ± std. dev. of 7 runs, 10,000 loops each)\n",
      "1.29 µs ± 206 ns per loop (mean ± std. dev. of 7 runs, 10,000 loops each)\n"
     ]
    }
   ],
   "source": [
    "%timeit -n 10000 my_answer_65(index_list, x)\n",
    "%timeit -n 10000 np.bincount(index_list, x)\n",
    "# 역시 내장함수 행님이십니다"
   ]
  },
  {
   "cell_type": "markdown",
   "id": "fae8ee71",
   "metadata": {},
   "source": [
    "#### 11. Create a 3x3 identity matrix (★☆☆)"
   ]
  },
  {
   "cell_type": "code",
   "execution_count": 68,
   "id": "4d11d7cc",
   "metadata": {},
   "outputs": [
    {
     "data": {
      "text/plain": [
       "array([[1, 0, 0],\n",
       "       [0, 1, 0],\n",
       "       [0, 0, 1]])"
      ]
     },
     "execution_count": 68,
     "metadata": {},
     "output_type": "execute_result"
    }
   ],
   "source": [
    "mat = np.identity(3, dtype = int)\n",
    "mat\n",
    "# 역시 내장함수 행님이십니다...\n",
    "# eye function is more useful.. but speed?"
   ]
  },
  {
   "cell_type": "code",
   "execution_count": 74,
   "id": "f9c77348",
   "metadata": {},
   "outputs": [
    {
     "name": "stdout",
     "output_type": "stream",
     "text": [
      "1.5 µs ± 45.6 ns per loop (mean ± std. dev. of 7 runs, 100,000 loops each)\n",
      "1.1 µs ± 67.4 ns per loop (mean ± std. dev. of 7 runs, 100,000 loops each)\n"
     ]
    }
   ],
   "source": [
    "%timeit -n 100000 np.identity(3, dtype = int)\n",
    "%timeit -n 100000 np.eye(3, dtype = int)\n",
    "# eye가 더 빠르노;; 버그임 ?"
   ]
  },
  {
   "cell_type": "markdown",
   "id": "29c7465a",
   "metadata": {},
   "source": [
    "#### 8. Reverse a vector (first element becomes last) (★☆☆)"
   ]
  },
  {
   "cell_type": "code",
   "execution_count": 90,
   "id": "48fd0cb0",
   "metadata": {},
   "outputs": [
    {
     "name": "stdout",
     "output_type": "stream",
     "text": [
      "[0.02798373 0.28788049 0.94514938 0.97362092 0.13439314 0.82789724\n",
      " 0.86297401 0.59976331 0.03461704 0.75502482]\n",
      "[0.75502482 0.03461704 0.59976331 0.86297401 0.82789724 0.13439314\n",
      " 0.97362092 0.94514938 0.28788049 0.02798373]\n"
     ]
    }
   ],
   "source": [
    "v = np.random.random(size = 10)\n",
    "print(v)\n",
    "v = v[::-1]\n",
    "print(v)"
   ]
  },
  {
   "cell_type": "code",
   "execution_count": 86,
   "id": "424fa3d5",
   "metadata": {},
   "outputs": [
    {
     "name": "stdout",
     "output_type": "stream",
     "text": [
      "Z = np.arange(50)\n",
      "Z = Z[::-1]\n",
      "print(Z)\n"
     ]
    }
   ],
   "source": [
    "answer(8)"
   ]
  },
  {
   "cell_type": "markdown",
   "id": "1d086918",
   "metadata": {},
   "source": [
    "#### 30. How to find common values between two arrays? (★☆☆)"
   ]
  },
  {
   "cell_type": "code",
   "execution_count": 93,
   "id": "7b6970bb",
   "metadata": {},
   "outputs": [
    {
     "name": "stdout",
     "output_type": "stream",
     "text": [
      "[2 3 1 5 2 9 8 4]\n",
      "[6 6 9 7 1 2 8 7]\n",
      "[1 2 8 9]\n"
     ]
    }
   ],
   "source": [
    "a = np.random.randint(10, size = 8)\n",
    "b = np.random.randint(10, size = 8)\n",
    "ans = np.intersect1d(a, b)\n",
    "print(a, b, ans, sep='\\n')"
   ]
  },
  {
   "cell_type": "code",
   "execution_count": 94,
   "id": "e4edd8f6",
   "metadata": {},
   "outputs": [
    {
     "name": "stdout",
     "output_type": "stream",
     "text": [
      "Z1 = np.random.randint(0,10,10)\n",
      "Z2 = np.random.randint(0,10,10)\n",
      "print(np.intersect1d(Z1,Z2))\n"
     ]
    }
   ],
   "source": [
    "answer(30)"
   ]
  },
  {
   "cell_type": "markdown",
   "id": "114846ec",
   "metadata": {},
   "source": [
    "#### 16. How to add a border (filled with 0's) around an existing array? (★☆☆)"
   ]
  },
  {
   "cell_type": "code",
   "execution_count": 107,
   "id": "90d89a1c",
   "metadata": {},
   "outputs": [
    {
     "data": {
      "text/plain": [
       "array([[0., 0., 0., 0., 0., 0., 0.],\n",
       "       [0., 1., 1., 1., 1., 1., 0.],\n",
       "       [0., 1., 1., 1., 1., 1., 0.],\n",
       "       [0., 1., 1., 1., 1., 1., 0.],\n",
       "       [0., 1., 1., 1., 1., 1., 0.],\n",
       "       [0., 1., 1., 1., 1., 1., 0.],\n",
       "       [0., 0., 0., 0., 0., 0., 0.]])"
      ]
     },
     "execution_count": 107,
     "metadata": {},
     "output_type": "execute_result"
    }
   ],
   "source": [
    "x = np.ones((5, 5))\n",
    "x = np.pad(x, pad_width = 1, mode = 'constant', constant_values=0) # CNN Zero pading\n",
    "x"
   ]
  },
  {
   "cell_type": "markdown",
   "id": "3764cd07",
   "metadata": {},
   "source": [
    "#### 3. Create a null vector of size 10 (★☆☆)"
   ]
  },
  {
   "cell_type": "code",
   "execution_count": 115,
   "id": "e7ef938f",
   "metadata": {},
   "outputs": [
    {
     "data": {
      "text/plain": [
       "array([0., 0., 0., 0., 0., 0., 0., 0., 0., 0.])"
      ]
     },
     "execution_count": 115,
     "metadata": {},
     "output_type": "execute_result"
    }
   ],
   "source": [
    "np.zeros(shape = (10))"
   ]
  },
  {
   "cell_type": "markdown",
   "id": "a7a3fdc2",
   "metadata": {},
   "source": [
    "#### 92. Consider a large vector Z, compute Z to the power of 3 using 3 different methods (★★★)"
   ]
  },
  {
   "cell_type": "code",
   "execution_count": 118,
   "id": "376bee5c",
   "metadata": {},
   "outputs": [
    {
     "name": "stdout",
     "output_type": "stream",
     "text": [
      "# Author: Ryan G.\n",
      "\n",
      "x = np.random.rand(int(5e7))\n",
      "\n",
      "%timeit np.power(x,3)\n",
      "%timeit x*x*x\n",
      "%timeit np.einsum('i,i,i->i',x,x,x)\n"
     ]
    }
   ],
   "source": [
    "np.einsum()"
   ]
  }
 ],
 "metadata": {
  "kernelspec": {
   "display_name": "Python 3.9.12 ('cuda')",
   "language": "python",
   "name": "python3"
  },
  "language_info": {
   "codemirror_mode": {
    "name": "ipython",
    "version": 3
   },
   "file_extension": ".py",
   "mimetype": "text/x-python",
   "name": "python",
   "nbconvert_exporter": "python",
   "pygments_lexer": "ipython3",
   "version": "3.9.12"
  },
  "vscode": {
   "interpreter": {
    "hash": "9c81575e2210d056097d2700eb7ee3ce510ed3e371e2914b2015b45b118693d6"
   }
  }
 },
 "nbformat": 4,
 "nbformat_minor": 5
}
